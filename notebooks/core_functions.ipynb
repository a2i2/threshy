{
 "cells": [
  {
   "cell_type": "code",
   "execution_count": 65,
   "metadata": {},
   "outputs": [],
   "source": [
    "import pandas as pd\n",
    "import numpy as np\n",
    "from sklearn.metrics import confusion_matrix\n",
    "import scipy.stats as stats\n",
    "\n",
    "# Optimisation\n",
    "from pymoo.model.repair import Repair\n",
    "from pymoo.model.problem import Problem\n",
    "from pymoo.optimize import minimize\n",
    "from pymoo.algorithms.nsga2 import NSGA2\n",
    "from pymoo.factory import *\n",
    "from pymoo.model.sampling import Sampling\n",
    "\n"
   ]
  },
  {
   "cell_type": "code",
   "execution_count": 193,
   "metadata": {},
   "outputs": [],
   "source": [
    "df = pd.read_csv(\"../input/mailguard-labeled-results.csv\")\n",
    "\n",
    "inputs = {\n",
    "    \"id_column\": \"mid\",\n",
    "    \"ground_truth_column\": \"ground_truth\",\n",
    "    \"reject_label\": \"REJECT\",\n",
    "    \"min\": 0,\n",
    "    \"max\": 1,\n",
    "    \n",
    "    \"probability_column\" : \"probabilities\",  # Optional???\n",
    "    \"target_label\" : \"spam\",                 # Optional???\n",
    "    \n",
    "}"
   ]
  },
  {
   "cell_type": "code",
   "execution_count": 6,
   "metadata": {},
   "outputs": [],
   "source": [
    "df = pd.read_csv(\"../input/predictions-email-classifier-percept_20191014-161825.csv\")\n",
    "inputs = {\n",
    "    \"id_column\": \"email_id\",\n",
    "    \"ground_truth_column\": \"work_type\",\n",
    "    \"reject_label\": \"REJECT\",\n",
    "    \"min\": 0,\n",
    "    \"max\": 100\n",
    "}"
   ]
  },
  {
   "cell_type": "markdown",
   "metadata": {},
   "source": [
    "# Core functions"
   ]
  },
  {
   "cell_type": "code",
   "execution_count": 194,
   "metadata": {},
   "outputs": [],
   "source": [
    "def calculate_matches(x, lower, upper):\n",
    "    not_match = np.less(x, lower)\n",
    "    match = np.greater_equal(x, upper)\n",
    "    rejects = ~np.logical_xor(not_match, match)\n",
    "    return np.stack([not_match, match, rejects])\n",
    "\n",
    "def apply_thresholds(probabilities, lower, upper):\n",
    "    temp = calculate_matches(probabilities, lower, upper)\n",
    "    def value(x):\n",
    "        return np.where(x == True)[0][0]\n",
    "    return np.apply_along_axis(value, 0, temp)\n",
    " \n",
    "def calculate_confusion_matrices(gt, pred):\n",
    "    result = np.zeros((gt.shape[1],3,3), dtype=np.int)\n",
    "    for i,(x,y) in enumerate(zip(gt.T,pred.T)):\n",
    "        matrix = confusion_matrix(x,y)\n",
    "        if np.shape(matrix) < (3,3):\n",
    "            matrix = np.c_[matrix, np.zeros(2)]\n",
    "            matrix = np.r_[matrix, [np.zeros(3)]]\n",
    "        elif np.shape(matrix) > (3, 3):\n",
    "            raise ValueError(\"Matrix should be 3x3, error in input labels\")\n",
    "\n",
    "        # Column order: matches, not match, rejects\n",
    "        matrix[:,[0,1]] = matrix[:,[1, 0]]\n",
    "        # Row order: matches, not match, rejects \n",
    "        matrix[[0,1], :] = matrix[[1, 0], :]\n",
    "\n",
    "        result[i] = matrix\n",
    "    return result\n",
    "\n",
    "def normalise_probs_in_place(df, inputs, labels):\n",
    "    if inputs[\"min\"] == 0 and inputs[\"max\"] == 100:\n",
    "        for label in labels:\n",
    "            if label == inputs[\"reject_label\"]:\n",
    "                continue\n",
    "            if (df[label] < 1).any() and (df[label] >= 0).any():\n",
    "                return \n",
    "            df[label] = df[label] / 100      \n",
    "    elif inputs[\"min\"] == 0 and inputs[\"max\"] == 1:\n",
    "        # TODO: Check that the provided constraints are not violated \n",
    "        return\n",
    "    else:\n",
    "        raise ValueError(\"Normalisation rule not specified\")\n",
    "\n",
    "def derive_probabilities(df, inputs):\n",
    "    if \"probability_column\" in inputs:\n",
    "        probabilities = pd.DataFrame()\n",
    "        probabilities[inputs[\"target_label\"]] = df[inputs[\"probability_column\"]]\n",
    "        probabilities[\"id\"] = df[inputs[\"id_column\"]]\n",
    "    else:\n",
    "        labels = list(retrieve_labels(df, inputs))\n",
    "        labels.insert(0, inputs[\"id_column\"])\n",
    "        probabilities = df[labels]\n",
    "        probabilities = probabilities.rename(columns={inputs[\"id_column\"]: \"id\"})\n",
    "    return probabilities.drop_duplicates(\"id\")\n",
    "\n",
    "def retrieve_labels(df, inputs):\n",
    "    return df[inputs[\"ground_truth_column\"]].str.strip().sort_values().unique()\n",
    "\n",
    "def check_labels_have_columns(df, labels):\n",
    "    return len(set(df.columns) & set(labels)) == len(labels)\n",
    "\n",
    "def prepare_labels(df, inputs):\n",
    "    labels = retrieve_labels(df, inputs)\n",
    "\n",
    "    if \"target_label\" in inputs:\n",
    "        labels = list(filter(lambda x: x == inputs[\"target_label\"], labels))\n",
    "    \n",
    "    if not check_labels_have_columns(df, labels) and not \"probability_column\" in inputs:\n",
    "        raise ValueError(\"Labels do not have column names for probabilities\")   \n",
    "        \n",
    "    return sorted(labels)\n",
    "\n",
    "\n",
    "def prepare_ground_truth(df, inputs, mapping):\n",
    "    ids = []\n",
    "    truth_columns = inputs[\"ground_truth_column\"]\n",
    "\n",
    "    if not \"target_label\" in inputs:\n",
    "        all_labels = []\n",
    "        for a_id in df[inputs[\"id_column\"]].unique():\n",
    "            ground_truth_labels = df[df[inputs[\"id_column\"]] == a_id][truth_columns]\n",
    "            indexes = [mapping[s.strip()] for s in list(ground_truth_labels)]     \n",
    "            ground_truth = np.zeros(len(mapping), dtype=int)\n",
    "            ground_truth[indexes] = 1\n",
    "            ids.append(a_id)\n",
    "            all_labels.append(ground_truth)\n",
    "        columns = list(mapping.keys())\n",
    "        ground_truth = pd.DataFrame(all_labels)\n",
    "        ground_truth.columns = columns\n",
    "    else:\n",
    "        ids = df[inputs[\"id_column\"]].unique()\n",
    "        ground_truth = pd.DataFrame()\n",
    "        ground_truth[inputs[\"target_label\"]] = (df[truth_columns] == inputs[\"target_label\"]) * 1\n",
    "    ground_truth[\"id\"] = ids    \n",
    "    return ground_truth\n",
    "\n",
    "\n",
    "def get_objective(probabilities, ground_truth, lower_thresholds, upper_thresholds):\n",
    "    \"\"\"\n",
    "    returns: (all confusion matrices, thresholds) \n",
    "    \"\"\"\n",
    "    thres = apply_thresholds(probabilities, lower_thresholds, upper_thresholds)  \n",
    "    all_results = calculate_confusion_matrices(ground_truth, thres)\n",
    "    return all_results, thres\n",
    "\n",
    "def summarise_results(all_results):\n",
    "    \"\"\"\n",
    "    returns Summary array of true match, \n",
    "    false match, missed match, and rejects, \n",
    "    \"\"\"\n",
    "    return np.array([all_results[:,0][:,0].sum(),\n",
    "            all_results[:,1][:,0].sum(),\n",
    "            all_results[:,0][:,1].sum(),\n",
    "            all_results[:,:,2].sum()])"
   ]
  },
  {
   "cell_type": "markdown",
   "metadata": {},
   "source": [
    "# Usage guide "
   ]
  },
  {
   "cell_type": "code",
   "execution_count": 195,
   "metadata": {},
   "outputs": [],
   "source": [
    "labels = prepare_labels(df, inputs)\n",
    "\n",
    "# Probabilities\n",
    "normalise_probs_in_place(df, inputs, labels)\n",
    "probabilities = derive_probabilities(df, inputs)\n",
    "\n",
    "# Ground truth\n",
    "mapping = {label: i for i, label in enumerate(labels)}\n",
    "ground_truth = prepare_ground_truth(df, inputs, mapping)\n",
    "\n",
    "np_probs = probabilities[labels].to_numpy()    \n",
    "np_ground_truth = ground_truth[labels].to_numpy()"
   ]
  },
  {
   "cell_type": "code",
   "execution_count": 196,
   "metadata": {},
   "outputs": [
    {
     "data": {
      "text/plain": [
       "array([[[32.0, 19.0, 0.0],\n",
       "        [1.0, 48.0, 0.0],\n",
       "        [0.0, 0.0, 0.0]]], dtype=object)"
      ]
     },
     "execution_count": 196,
     "metadata": {},
     "output_type": "execute_result"
    }
   ],
   "source": [
    "new_threshold = np.full(10, 0.51, dtype=np.double)\n",
    "\n",
    "# True match, false match, missed match, rejects\n",
    "all_matrices, thresholded = get_objective(np_probs, np_ground_truth, new_threshold, new_threshold)\n",
    "all_matrices"
   ]
  },
  {
   "cell_type": "code",
   "execution_count": 197,
   "metadata": {},
   "outputs": [
    {
     "data": {
      "text/plain": [
       "array([32.,  1., 19.,  0.])"
      ]
     },
     "execution_count": 197,
     "metadata": {},
     "output_type": "execute_result"
    }
   ],
   "source": [
    "summarise_results(all_matrices)"
   ]
  },
  {
   "cell_type": "markdown",
   "metadata": {},
   "source": [
    "# Cost calculations"
   ]
  },
  {
   "cell_type": "code",
   "execution_count": 198,
   "metadata": {},
   "outputs": [
    {
     "data": {
      "text/plain": [
       "array([[160., 950.,   0.],\n",
       "       [500., 240.,   0.],\n",
       "       [  0.,   0.,   0.]])"
      ]
     },
     "execution_count": 198,
     "metadata": {},
     "output_type": "execute_result"
    }
   ],
   "source": [
    "params = {\n",
    "  \"cost\": {\n",
    "    \"matrix\" : [[50,500, 50],[5000,50,50], [0,0,0]],\n",
    "    \"portion_size\" : 1000,\n",
    "    \"estimate_size\":10000    # Estimate the cost for classifying N # of items\n",
    "  }\n",
    "}\n",
    "\n",
    "def calculate_cost(predicted_matrix, cost_weights, portion_size, estimate_size):\n",
    "    cost_per_prediction = np.array(cost_weights) / portion_size\n",
    "    scaled_matrix = np.round(predicted_matrix.astype(np.double) / predicted_matrix.sum() * estimate_size)\n",
    "    return scaled_matrix * cost_per_prediction\n",
    "\n",
    "# Usage guide\n",
    "calculate_cost(all_matrices[0], params[\"cost\"][\"matrix\"], params[\"cost\"][\"portion_size\"], params[\"cost\"][\"estimate_size\"])"
   ]
  },
  {
   "cell_type": "code",
   "execution_count": 199,
   "metadata": {},
   "outputs": [
    {
     "data": {
      "text/plain": [
       "array([[[160., 950.,   0.],\n",
       "        [500., 240.,   0.],\n",
       "        [  0.,   0.,   0.]]])"
      ]
     },
     "execution_count": 199,
     "metadata": {},
     "output_type": "execute_result"
    }
   ],
   "source": [
    "def calculate_all_costs(all_matrices, cost_weights, portion_size, estimate_size):\n",
    "    cost_results = np.zeros((len(all_matrices), 3, 3))\n",
    "    for i, a in enumerate(all_matrices):\n",
    "        cost_results[i] = calculate_cost(a, cost_weights, portion_size, estimate_size)\n",
    "    return cost_results\n",
    "\n",
    "# Usage guide\n",
    "all_costs = calculate_all_costs(all_matrices, params[\"cost\"][\"matrix\"], params[\"cost\"][\"portion_size\"], params[\"cost\"][\"estimate_size\"])\n",
    "all_costs"
   ]
  },
  {
   "cell_type": "code",
   "execution_count": 200,
   "metadata": {},
   "outputs": [
    {
     "data": {
      "text/plain": [
       "array([160., 500., 950.,   0.])"
      ]
     },
     "execution_count": 200,
     "metadata": {},
     "output_type": "execute_result"
    }
   ],
   "source": [
    "summarise_results(all_costs)"
   ]
  },
  {
   "cell_type": "markdown",
   "metadata": {},
   "source": [
    "# Auto-Recommender"
   ]
  },
  {
   "cell_type": "code",
   "execution_count": 201,
   "metadata": {},
   "outputs": [],
   "source": [
    "class MyRepair(Repair):\n",
    "\n",
    "    def _do(self, problem, pop, **kwargs):\n",
    "        for i in range(len(pop)):\n",
    "            x = pop[i].X\n",
    "            pop[i].X = np.around(x, decimals=2)\n",
    "        return pop\n",
    "\n",
    "class FindThresholds(Problem):\n",
    "    def __init__(self, probabilities, ground_truth, **kwargs):\n",
    "        self.probabilities = probabilities     \n",
    "        self.ground_truth = ground_truth\n",
    "        n_var = probabilities.shape[1]\n",
    "        super().__init__(n_var=n_var, \n",
    "                         n_constr=0, \n",
    "                         n_obj=4, \n",
    "                         xl=anp.zeros((n_var,), dtype=anp.int), \n",
    "                         xu=anp.ones((n_var,), dtype=anp.int),  \n",
    "                         type_var=anp.int, \n",
    "                         elementwise_evaluation=True)\n",
    "    \n",
    "    def _evaluate(self, X, out, *args, **kwargs):\n",
    "        f0 = []\n",
    "        f1 = []\n",
    "        f2 = []\n",
    "        f3 = []\n",
    "        thresholds = X \n",
    "        all_matrices, thresholded = get_objective(self.probabilities, self.ground_truth, thresholds, thresholds)\n",
    "        \n",
    "# TODO: Trial optimisin        \n",
    "#        all_matrices = calculate_all_costs(all_matrices, params[\"cost\"][\"matrix\"], params[\"cost\"][\"portion_size\"], params[\"cost\"][\"estimate_size\"])\n",
    "        \n",
    "        true_matches, false_matches, missed_matches, rejects = summarise_results(all_matrices)\n",
    "        \n",
    "        f0.append(true_matches * -1)   # True matches need to be maximised, pymoo only minimises\n",
    "        f1.append(false_matches)\n",
    "        f2.append(missed_matches)\n",
    "        f3.append(rejects)\n",
    "            \n",
    "        out[\"F\"] = anp.column_stack([f0, f1, f2, f3]).astype(anp.double)\n",
    "        \n"
   ]
  },
  {
   "cell_type": "code",
   "execution_count": 202,
   "metadata": {},
   "outputs": [],
   "source": [
    "class BetaDistribution(Sampling):\n",
    "\n",
    "    def __init__(self):\n",
    "        super().__init__()\n",
    "\n",
    "    def _do(self, problem, n_samples, **kwargs):        \n",
    "        return stats.beta(a=4, b=2).rvs(size=(n_samples, problem.n_var))\n",
    "    \n",
    "algorithm = NSGA2(\n",
    "    pop_size=40,\n",
    "    n_offsprings=10,\n",
    "    repair=MyRepair(),\n",
    "    sampling= BetaDistribution(), #get_sampling(\"int_lhs\"),\n",
    "    crossover=get_crossover(\"real_sbx\", prob=0.9, eta=15),\n",
    "    mutation=get_mutation(\"real_pm\", eta=20),\n",
    ")    \n",
    "\n",
    "problem = FindThresholds(np_probs, np_ground_truth, parallelizable=(\"threads\", 4))"
   ]
  },
  {
   "cell_type": "code",
   "execution_count": 203,
   "metadata": {},
   "outputs": [
    {
     "name": "stdout",
     "output_type": "stream",
     "text": [
      "======================================================================\n",
      "n_gen | n_eval \n",
      "======================================================================\n",
      "1     | 40     \n",
      "2     | 50     \n",
      "3     | 60     \n",
      "4     | 70     \n",
      "5     | 80     \n",
      "6     | 90     \n",
      "7     | 100    \n",
      "8     | 110    \n",
      "9     | 120    \n",
      "10    | 130    \n"
     ]
    },
    {
     "data": {
      "text/plain": [
       "0.22319131399945036"
      ]
     },
     "execution_count": 203,
     "metadata": {},
     "output_type": "execute_result"
    }
   ],
   "source": [
    "import timeit\n",
    "\n",
    "results = None\n",
    "\n",
    "def value():\n",
    "    global results\n",
    "    results = minimize(problem,\n",
    "               algorithm,\n",
    "               (\"n_gen\", 10),\n",
    "               save_history=True,\n",
    "               verbose=True)\n",
    "timeit.timeit(value,number=1)"
   ]
  },
  {
   "cell_type": "code",
   "execution_count": 204,
   "metadata": {},
   "outputs": [
    {
     "name": "stdout",
     "output_type": "stream",
     "text": [
      "Best regarding decomposition: Point 3 - [-38.   4.  13.   0.], [0.18]\n"
     ]
    },
    {
     "data": {
      "text/plain": [
       "(array([-38.,   4.,  13.,   0.]), -13.0)"
      ]
     },
     "execution_count": 204,
     "metadata": {},
     "output_type": "execute_result"
    }
   ],
   "source": [
    "F = results.F\n",
    "\n",
    "weights = np.array([0.5,0.25,0.25,0])\n",
    "I = get_decomposition(\"weighted-sum\").do(F, weights).argmin()\n",
    "print(\"Best regarding decomposition: Point %s - %s, %s\" % (I, F[I], results.X[I]))\n",
    "\n",
    "a = F[I]\n",
    "a, a[0] * -1 + a[1:].sum() * -3"
   ]
  },
  {
   "cell_type": "code",
   "execution_count": 205,
   "metadata": {},
   "outputs": [
    {
     "data": {
      "text/plain": [
       "(array([32.,  1., 19.,  0.]), -28.0)"
      ]
     },
     "execution_count": 205,
     "metadata": {},
     "output_type": "execute_result"
    }
   ],
   "source": [
    "a = summarise_results(all_matrices)\n",
    "a, a[0] + a[1:].sum() * -3"
   ]
  },
  {
   "cell_type": "code",
   "execution_count": 272,
   "metadata": {},
   "outputs": [
    {
     "data": {
      "image/png": "[encoded data removed]",
      "text/plain": [
       "<Figure size 576x432 with 16 Axes>"
      ]
     },
     "metadata": {
      "needs_background": "light"
     },
     "output_type": "display_data"
    }
   ],
   "source": [
    "from pymoo.visualization.scatter import Scatter\n",
    "import matplotlib.pyplot as plt\n",
    "plot = Scatter()\n",
    "plot.add(problem.pareto_front(), plot_type=\"line\", color=\"black\", alpha=0.7)\n",
    "plot.add(results.F, color=\"red\")\n",
    "plot.show()\n",
    "plt.show()"
   ]
  },
  {
   "cell_type": "code",
   "execution_count": 206,
   "metadata": {},
   "outputs": [
    {
     "data": {
      "text/plain": [
       "array([[-51.,  47.,   0.,   0.],\n",
       "       [ -0.,   0.,  51.,   0.],\n",
       "       [-32.,   1.,  19.,   0.],\n",
       "       [-38.,   4.,  13.,   0.],\n",
       "       [-45.,  33.,   6.,   0.],\n",
       "       [-35.,   3.,  16.,   0.],\n",
       "       [-47.,  39.,   4.,   0.],\n",
       "       [-49.,  41.,   2.,   0.],\n",
       "       [-46.,  34.,   5.,   0.],\n",
       "       [-50.,  44.,   1.,   0.],\n",
       "       [-32.,   1.,  19.,   0.],\n",
       "       [-32.,   1.,  19.,   0.],\n",
       "       [-32.,   1.,  19.,   0.],\n",
       "       [-35.,   3.,  16.,   0.],\n",
       "       [-32.,   1.,  19.,   0.],\n",
       "       [-32.,   1.,  19.,   0.],\n",
       "       [-32.,   1.,  19.,   0.],\n",
       "       [-32.,   1.,  19.,   0.],\n",
       "       [-32.,   1.,  19.,   0.],\n",
       "       [-32.,   1.,  19.,   0.],\n",
       "       [-35.,   3.,  16.,   0.],\n",
       "       [-35.,   3.,  16.,   0.],\n",
       "       [-32.,   1.,  19.,   0.],\n",
       "       [-32.,   1.,  19.,   0.],\n",
       "       [-32.,   1.,  19.,   0.],\n",
       "       [-32.,   1.,  19.,   0.],\n",
       "       [-32.,   1.,  19.,   0.],\n",
       "       [-32.,   1.,  19.,   0.],\n",
       "       [-32.,   1.,  19.,   0.],\n",
       "       [-35.,   3.,  16.,   0.],\n",
       "       [-35.,   3.,  16.,   0.],\n",
       "       [-35.,   3.,  16.,   0.],\n",
       "       [-35.,   3.,  16.,   0.],\n",
       "       [-32.,   1.,  19.,   0.],\n",
       "       [-32.,   1.,  19.,   0.],\n",
       "       [-35.,   3.,  16.,   0.],\n",
       "       [-47.,  39.,   4.,   0.],\n",
       "       [-32.,   1.,  19.,   0.],\n",
       "       [-32.,   1.,  19.,   0.],\n",
       "       [-32.,   1.,  19.,   0.]])"
      ]
     },
     "execution_count": 206,
     "metadata": {},
     "output_type": "execute_result"
    }
   ],
   "source": [
    "results.F"
   ]
  },
  {
   "cell_type": "code",
   "execution_count": 208,
   "metadata": {},
   "outputs": [
    {
     "data": {
      "text/plain": [
       "array([[<matplotlib.axes._subplots.AxesSubplot object at 0x12a772a50>]],\n",
       "      dtype=object)"
      ]
     },
     "execution_count": 208,
     "metadata": {},
     "output_type": "execute_result"
    },
    {
     "data": {
      "image/png": "[encoded data removed]",
      "text/plain": [
       "<Figure size 432x288 with 1 Axes>"
      ]
     },
     "metadata": {
      "needs_background": "light"
     },
     "output_type": "display_data"
    }
   ],
   "source": [
    "pd.DataFrame(stats.beta(a=4, b=2).rvs(size=10000)).hist()"
   ]
  }
 ],
 "metadata": {
  "kernelspec": {
   "display_name": "Python 3",
   "language": "python",
   "name": "python3"
  },
  "language_info": {
   "codemirror_mode": {
    "name": "ipython",
    "version": 3
   },
   "file_extension": ".py",
   "mimetype": "text/x-python",
   "name": "python",
   "nbconvert_exporter": "python",
   "pygments_lexer": "ipython3",
   "version": "3.7.4"
  }
 },
 "nbformat": 4,
 "nbformat_minor": 4
}
